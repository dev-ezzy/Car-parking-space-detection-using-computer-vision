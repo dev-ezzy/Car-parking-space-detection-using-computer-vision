{
 "cells": [
  {
   "cell_type": "code",
   "execution_count": 1,
   "id": "24182484",
   "metadata": {},
   "outputs": [
    {
     "name": "stdout",
     "output_type": "stream",
     "text": [
      "Saved annotations for 0 frames to data/annotations.json\n"
     ]
    }
   ],
   "source": [
    "# prepare_data.py\n",
    "import os\n",
    "import argparse\n",
    "from utils import get_parking_spots_from_mask, read_image, save_json\n",
    "\n",
    "def main(mask_path='data/mask_1920_1080.png', images_dir='data/clf-data', out_json='data/annotations.json'):\n",
    "    slots = get_parking_spots_from_mask(mask_path)\n",
    "    # create a list of frames with slot geometry\n",
    "    files = sorted([f for f in os.listdir(images_dir) if f.lower().endswith(('.jpg','.png','.jpeg'))])\n",
    "    annotations = []\n",
    "    for fname in files:\n",
    "        annotations.append({\n",
    "            \"image\": fname,\n",
    "            \"slots\": [\n",
    "                {\"slot_id\": s[\"slot_id\"], \"polygon\": s[\"polygon\"], \"bbox\": s[\"bbox\"], \"label\": None}\n",
    "                for s in slots\n",
    "            ]\n",
    "        })\n",
    "    os.makedirs(os.path.dirname(out_json), exist_ok=True)\n",
    "    save_json(annotations, out_json)\n",
    "    print(f\"Saved annotations for {len(files)} frames to {out_json}\")\n",
    "\n",
    "if __name__ == \"__main__\":\n",
    "    main()\n"
   ]
  },
  {
   "cell_type": "code",
   "execution_count": null,
   "id": "925651a5",
   "metadata": {},
   "outputs": [],
   "source": []
  }
 ],
 "metadata": {
  "kernelspec": {
   "display_name": "DS",
   "language": "python",
   "name": "python3"
  },
  "language_info": {
   "codemirror_mode": {
    "name": "ipython",
    "version": 3
   },
   "file_extension": ".py",
   "mimetype": "text/x-python",
   "name": "python",
   "nbconvert_exporter": "python",
   "pygments_lexer": "ipython3",
   "version": "3.12.2"
  }
 },
 "nbformat": 4,
 "nbformat_minor": 5
}
