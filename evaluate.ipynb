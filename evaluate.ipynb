{
 "cells": [
  {
   "cell_type": "code",
   "execution_count": 2,
   "id": "6c1d499a",
   "metadata": {},
   "outputs": [
    {
     "ename": "AttributeError",
     "evalue": "'tuple' object has no attribute 'model'",
     "output_type": "error",
     "traceback": [
      "\u001b[0;31m---------------------------------------------------------------------------\u001b[0m",
      "\u001b[0;31mAttributeError\u001b[0m                            Traceback (most recent call last)",
      "Cell \u001b[0;32mIn[2], line 63\u001b[0m\n\u001b[1;32m     61\u001b[0m parser\u001b[38;5;241m.\u001b[39madd_argument(\u001b[38;5;124m'\u001b[39m\u001b[38;5;124m--data_root\u001b[39m\u001b[38;5;124m'\u001b[39m, default\u001b[38;5;241m=\u001b[39m\u001b[38;5;124m'\u001b[39m\u001b[38;5;124mdata/clf-data\u001b[39m\u001b[38;5;124m'\u001b[39m)  \u001b[38;5;66;03m# matches your folder\u001b[39;00m\n\u001b[1;32m     62\u001b[0m args \u001b[38;5;241m=\u001b[39m parser\u001b[38;5;241m.\u001b[39mparse_known_args()\n\u001b[0;32m---> 63\u001b[0m eval_model(\u001b[43margs\u001b[49m\u001b[38;5;241;43m.\u001b[39;49m\u001b[43mmodel\u001b[49m, args\u001b[38;5;241m.\u001b[39mdata_root)\n",
      "\u001b[0;31mAttributeError\u001b[0m: 'tuple' object has no attribute 'model'"
     ]
    }
   ],
   "source": [
    "# evaluate.py\n",
    "import torch\n",
    "from torch.utils.data import DataLoader\n",
    "from torchvision import datasets, transforms, models\n",
    "import argparse\n",
    "from sklearn.metrics import confusion_matrix, classification_report\n",
    "import numpy as np\n",
    "import matplotlib.pyplot as plt\n",
    "import seaborn as sns\n",
    "\n",
    "def eval_model(model_path, data_root, batch_size=32):\n",
    "    device = 'cuda' if torch.cuda.is_available() else 'cpu'\n",
    "    \n",
    "    # transforms\n",
    "    transform = transforms.Compose([\n",
    "        transforms.Resize((224, 224)),\n",
    "        transforms.ToTensor(),\n",
    "        transforms.Normalize([0.485, 0.456, 0.406],\n",
    "                             [0.229, 0.224, 0.225])\n",
    "    ])\n",
    "\n",
    "    # dataset + dataloader\n",
    "    ds = datasets.ImageFolder(root=data_root, transform=transform)\n",
    "    dl = DataLoader(ds, batch_size=batch_size, shuffle=False, num_workers=4)\n",
    "\n",
    "    # model\n",
    "    model = models.mobilenet_v2(pretrained=False)\n",
    "    in_f = model.classifier[1].in_features\n",
    "    model.classifier[1] = torch.nn.Linear(in_f, 2)   # two classes\n",
    "    model.load_state_dict(torch.load(model_path, map_location=device))\n",
    "    model.to(device).eval()\n",
    "\n",
    "    y_true, y_pred = [], []\n",
    "    with torch.no_grad():\n",
    "        for imgs, labels in dl:\n",
    "            imgs = imgs.to(device)\n",
    "            logits = model(imgs)\n",
    "            preds = torch.argmax(logits, dim=1).cpu().numpy()\n",
    "            y_true.extend(labels.numpy().tolist())\n",
    "            y_pred.extend(preds.tolist())\n",
    "\n",
    "    # metrics\n",
    "    print(classification_report(y_true, y_pred, digits=4, target_names=ds.classes))\n",
    "    cm = confusion_matrix(y_true, y_pred)\n",
    "    print(\"Confusion matrix:\\n\", cm)\n",
    "\n",
    "    # plot confusion matrix\n",
    "    plt.figure(figsize=(6,6))\n",
    "    sns.heatmap(cm, annot=True, fmt=\"d\", cmap=\"Blues\",\n",
    "                xticklabels=ds.classes, yticklabels=ds.classes)\n",
    "    plt.xlabel(\"Predicted\")\n",
    "    plt.ylabel(\"True\")\n",
    "    plt.title(\"Confusion Matrix\")\n",
    "    plt.show()\n",
    "\n",
    "    return y_true, y_pred\n",
    "\n",
    "if __name__ == \"__main__\":\n",
    "    parser = argparse.ArgumentParser()\n",
    "    parser.add_argument('--model', default='checkpoints/best_model.pth')\n",
    "    parser.add_argument('--data_root', default='data/clf-data')  # matches your folder\n",
    "    args = parser.parse_known_args()\n",
    "    eval_model(args.model, args.data_root)"
   ]
  },
  {
   "cell_type": "code",
   "execution_count": null,
   "id": "bae64468",
   "metadata": {},
   "outputs": [],
   "source": []
  }
 ],
 "metadata": {
  "kernelspec": {
   "display_name": "DS",
   "language": "python",
   "name": "python3"
  },
  "language_info": {
   "codemirror_mode": {
    "name": "ipython",
    "version": 3
   },
   "file_extension": ".py",
   "mimetype": "text/x-python",
   "name": "python",
   "nbconvert_exporter": "python",
   "pygments_lexer": "ipython3",
   "version": "3.12.2"
  }
 },
 "nbformat": 4,
 "nbformat_minor": 5
}
