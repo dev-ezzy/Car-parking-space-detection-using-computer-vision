{
 "cells": [
  {
   "cell_type": "markdown",
   "id": "08345954",
   "metadata": {},
   "source": [
    "# CAR PARKING SPACE DETECTION USING COMPUTER VISION\n",
    "### Author: EZRA BETT"
   ]
  },
  {
   "cell_type": "code",
   "execution_count": null,
   "id": "ab2286a3",
   "metadata": {},
   "outputs": [],
   "source": [
    "#importing libraries\n",
    "import pandas as pd\n",
    "import numpy as np \n",
    "import matplotlib.pyplot as plt\n",
    "import seaborn as sns"
   ]
  },
  {
   "cell_type": "code",
   "execution_count": null,
   "id": "125ea47c",
   "metadata": {},
   "outputs": [],
   "source": []
  }
 ],
 "metadata": {
  "kernelspec": {
   "display_name": "DS",
   "language": "python",
   "name": "python3"
  },
  "language_info": {
   "codemirror_mode": {
    "name": "ipython",
    "version": 3
   },
   "file_extension": ".py",
   "mimetype": "text/x-python",
   "name": "python",
   "nbconvert_exporter": "python",
   "pygments_lexer": "ipython3",
   "version": "3.12.2"
  }
 },
 "nbformat": 4,
 "nbformat_minor": 5
}
